{
 "cells": [
  {
   "cell_type": "markdown",
   "metadata": {},
   "source": [
    "# Machine-Learning-and-Statistics-Project 2020"
   ]
  },
  {
   "cell_type": "markdown",
   "metadata": {},
   "source": [
    "***"
   ]
  },
  {
   "cell_type": "markdown",
   "metadata": {},
   "source": [
    "##  Project 2020\n",
    "\n",
    "\n",
    "In this project you must create a web service that uses machine learning to make predictions\n",
    "based on the data set powerproduction available on Moodle. The goal is to\n",
    "produce a model that accurately predicts wind turbine power output from wind speed\n",
    "values, as in the data set. You must then develop a web service that will respond with\n",
    "predicted power values based on speed values sent as HTTP requests. Your submission\n",
    "must be in the form of a git repository containing, at a minimum, the following items:\n",
    "1. Jupyter notebook that trains a model using the data set. In the notebook you\n",
    "should explain your model and give an analysis of its accuracy.\n",
    "2. Python script that runs a web service based on the model, as above.\n",
    "3. Dockerfile to build and run the web service in a container.\n",
    "4. Standard items in a git repository such as a README.\n",
    "To enhance your submission, you might consider developing and comparing more than\n",
    "one model. "
   ]
  },
  {
   "cell_type": "markdown",
   "metadata": {},
   "source": [
    "## Introduction\n",
    "\n",
    "The general goal of machine learning is to build models that can learn from data without being explicitly programmed. Supervised learning refers to the fact that each sample within the data being used to build the system contains an associated label. The goal is to build a model that can accurately predict the value of the label when presented with new data. The supervised learning model takes the form:\n",
    "\n",
    "Y=f(x)\n",
    "   \n",
    "Where the label is assumed to be some general function of the input features. \n",
    "\n",
    "Power curve of a wind turbine depicts the relationship between output power and wind speed.  Accurate models of power curves can play an important role in improving the performance of wind energy based systems. This notebook presents a detailed review of different approaches for modelling the wind turbine power curve. [1]\n",
    "\n",
    "\n",
    "\n",
    "#### Task objectives:\n",
    "- Research the Power production dataset.\n",
    "- Explore models\n",
    "- Determine model to use\n",
    "- Develop web service\n",
    "\n",
    "### Choosing an Appropriate Model\n",
    "Choosing an appropriate model depends on a number of factors, including:\n",
    "\n",
    "- The size of the data, as some models perform better on larger or smaller data sets\n",
    "\n",
    "- The distribution of the data, as some models assume the features with a dataset follow a specific statistical distribution\n",
    "\n",
    "- The relationship between the features and labels (linear or non-linear, additive or multiplicative, etc.)"
   ]
  },
  {
   "cell_type": "markdown",
   "metadata": {},
   "source": [
    "#### Explore the dataset"
   ]
  },
  {
   "cell_type": "code",
   "execution_count": 1,
   "metadata": {},
   "outputs": [],
   "source": [
    "# Import libraries\n",
    "import pandas as pd\n",
    "import scipy.stats as ss\n",
    "import matplotlib.pyplot as plt\n",
    "import seaborn as sns\n",
    "import csv\n",
    "import tensorflow.keras as kr\n",
    "import numpy as np\n",
    "import pandas as pd\n",
    "\n",
    "%matplotlib inline"
   ]
  },
  {
   "cell_type": "code",
   "execution_count": 2,
   "metadata": {},
   "outputs": [],
   "source": [
    "# Make matplotlib show interactive plots in the notebook.\n",
    "%matplotlib inline\n",
    "# Apply the default seaborn settings\n",
    "sns.set()"
   ]
  },
  {
   "cell_type": "code",
   "execution_count": 3,
   "metadata": {},
   "outputs": [
    {
     "name": "stdout",
     "output_type": "stream",
     "text": [
      "   speed  power\n",
      "0  0.000    0.0\n",
      "1  0.125    0.0\n",
      "2  0.150    0.0\n",
      "3  0.225    0.0\n",
      "4  0.275    0.0\n"
     ]
    }
   ],
   "source": [
    "# Import the power production dataset and call it pp\n",
    "pp = pd.read_csv(\"powerprod.csv\")\n",
    "print(pp.head())"
   ]
  },
  {
   "cell_type": "code",
   "execution_count": 4,
   "metadata": {},
   "outputs": [
    {
     "data": {
      "text/html": [
       "<div>\n",
       "<style scoped>\n",
       "    .dataframe tbody tr th:only-of-type {\n",
       "        vertical-align: middle;\n",
       "    }\n",
       "\n",
       "    .dataframe tbody tr th {\n",
       "        vertical-align: top;\n",
       "    }\n",
       "\n",
       "    .dataframe thead th {\n",
       "        text-align: right;\n",
       "    }\n",
       "</style>\n",
       "<table border=\"1\" class=\"dataframe\">\n",
       "  <thead>\n",
       "    <tr style=\"text-align: right;\">\n",
       "      <th></th>\n",
       "      <th>count</th>\n",
       "      <th>mean</th>\n",
       "      <th>std</th>\n",
       "      <th>min</th>\n",
       "      <th>25%</th>\n",
       "      <th>50%</th>\n",
       "      <th>75%</th>\n",
       "      <th>max</th>\n",
       "    </tr>\n",
       "  </thead>\n",
       "  <tbody>\n",
       "    <tr>\n",
       "      <th>speed</th>\n",
       "      <td>500.0</td>\n",
       "      <td>12.590398</td>\n",
       "      <td>7.224991</td>\n",
       "      <td>0.0</td>\n",
       "      <td>6.32475</td>\n",
       "      <td>12.5505</td>\n",
       "      <td>18.77525</td>\n",
       "      <td>25.000</td>\n",
       "    </tr>\n",
       "    <tr>\n",
       "      <th>power</th>\n",
       "      <td>500.0</td>\n",
       "      <td>48.014584</td>\n",
       "      <td>41.614572</td>\n",
       "      <td>0.0</td>\n",
       "      <td>5.28800</td>\n",
       "      <td>41.6455</td>\n",
       "      <td>93.53700</td>\n",
       "      <td>113.556</td>\n",
       "    </tr>\n",
       "  </tbody>\n",
       "</table>\n",
       "</div>"
      ],
      "text/plain": [
       "       count       mean        std  min      25%      50%       75%      max\n",
       "speed  500.0  12.590398   7.224991  0.0  6.32475  12.5505  18.77525   25.000\n",
       "power  500.0  48.014584  41.614572  0.0  5.28800  41.6455  93.53700  113.556"
      ]
     },
     "execution_count": 4,
     "metadata": {},
     "output_type": "execute_result"
    }
   ],
   "source": [
    "pp.describe().transpose()"
   ]
  },
  {
   "cell_type": "markdown",
   "metadata": {},
   "source": [
    "Note that many of the features have different scales. This is important to recognize because many machine learning models are sensitive to the relative scaling of each feature, and it is often necessary to rescale the features to the same range. The most common ways to do this are to normalize each feature so that it ranges from 0 to 1, or standardize each feature so that it has zero mean and a standard deviation of one. For our example, the final result will be the same whether we scale or not, but it will make the coefficients more interpretable if we do."
   ]
  },
  {
   "cell_type": "code",
   "execution_count": 5,
   "metadata": {},
   "outputs": [
    {
     "data": {
      "text/html": [
       "<div>\n",
       "<style scoped>\n",
       "    .dataframe tbody tr th:only-of-type {\n",
       "        vertical-align: middle;\n",
       "    }\n",
       "\n",
       "    .dataframe tbody tr th {\n",
       "        vertical-align: top;\n",
       "    }\n",
       "\n",
       "    .dataframe thead th {\n",
       "        text-align: right;\n",
       "    }\n",
       "</style>\n",
       "<table border=\"1\" class=\"dataframe\">\n",
       "  <thead>\n",
       "    <tr style=\"text-align: right;\">\n",
       "      <th></th>\n",
       "      <th>speed</th>\n",
       "      <th>power</th>\n",
       "    </tr>\n",
       "  </thead>\n",
       "  <tbody>\n",
       "    <tr>\n",
       "      <th>0</th>\n",
       "      <td>0.000</td>\n",
       "      <td>0.0</td>\n",
       "    </tr>\n",
       "    <tr>\n",
       "      <th>1</th>\n",
       "      <td>0.125</td>\n",
       "      <td>0.0</td>\n",
       "    </tr>\n",
       "    <tr>\n",
       "      <th>2</th>\n",
       "      <td>0.150</td>\n",
       "      <td>0.0</td>\n",
       "    </tr>\n",
       "    <tr>\n",
       "      <th>3</th>\n",
       "      <td>0.225</td>\n",
       "      <td>0.0</td>\n",
       "    </tr>\n",
       "    <tr>\n",
       "      <th>4</th>\n",
       "      <td>0.275</td>\n",
       "      <td>0.0</td>\n",
       "    </tr>\n",
       "  </tbody>\n",
       "</table>\n",
       "</div>"
      ],
      "text/plain": [
       "   speed  power\n",
       "0  0.000    0.0\n",
       "1  0.125    0.0\n",
       "2  0.150    0.0\n",
       "3  0.225    0.0\n",
       "4  0.275    0.0"
      ]
     },
     "execution_count": 5,
     "metadata": {},
     "output_type": "execute_result"
    }
   ],
   "source": [
    "pp.head()"
   ]
  },
  {
   "cell_type": "code",
   "execution_count": 6,
   "metadata": {},
   "outputs": [
    {
     "data": {
      "image/png": "[encoded data removed]",
      "text/plain": [
       "<Figure size 288x288 with 1 Axes>"
      ]
     },
     "metadata": {},
     "output_type": "display_data"
    }
   ],
   "source": [
    "p = sns.pairplot(data=pp,y_vars=['power'],x_vars=['speed'],kind='reg',height=4).fig.suptitle('Power vs Speed')"
   ]
  },
  {
   "cell_type": "code",
   "execution_count": 7,
   "metadata": {},
   "outputs": [
    {
     "data": {
      "text/plain": [
       "<AxesSubplot:xlabel='speed', ylabel='power'>"
      ]
     },
     "execution_count": 7,
     "metadata": {},
     "output_type": "execute_result"
    },
    {
     "data": {
      "image/png": "[encoded data removed]",
      "text/plain": [
       "<Figure size 432x288 with 1 Axes>"
      ]
     },
     "metadata": {},
     "output_type": "display_data"
    }
   ],
   "source": [
    "sns.regplot(x=\"speed\", y=\"power\", data=pp)"
   ]
  },
  {
   "cell_type": "code",
   "execution_count": 8,
   "metadata": {},
   "outputs": [
    {
     "data": {
      "text/plain": [
       "<seaborn.axisgrid.PairGrid at 0x1ad820ea310>"
      ]
     },
     "execution_count": 8,
     "metadata": {},
     "output_type": "execute_result"
    },
    {
     "data": {
      "image/png": "[encoded data removed]",
      "text/plain": [
       "<Figure size 360x360 with 6 Axes>"
      ]
     },
     "metadata": {},
     "output_type": "display_data"
    }
   ],
   "source": [
    "sns.pairplot(pp)"
   ]
  },
  {
   "cell_type": "markdown",
   "metadata": {},
   "source": [
    "Observations\n",
    "\n",
    "Not obvious what model it fits \n",
    "- Below approximately 10, power is not generated\n",
    "- Between 10 & 90 this is a linear correlation\n",
    "- From 90 upwards power has returned constant values\n",
    "- there is 0 power generated at certain points - are these outliers and should they be excluded?  \n",
    "\n",
    "\n",
    "In practice, however, wind turbines are never used under ideal conditions, and the empirical power curves could be substantially different from the theoretical ones due to the location of the turbine, air density, wind velocity distribution, wind direction, mechanical and control issues, as well as uncertainties in measurements.[2]"
   ]
  },
  {
   "cell_type": "code",
   "execution_count": 9,
   "metadata": {},
   "outputs": [
    {
     "data": {
      "text/plain": [
       "<AxesSubplot:xlabel='speed', ylabel='power'>"
      ]
     },
     "execution_count": 9,
     "metadata": {},
     "output_type": "execute_result"
    },
    {
     "data": {
      "image/png": "[encoded data removed]",
      "text/plain": [
       "<Figure size 432x288 with 1 Axes>"
      ]
     },
     "metadata": {},
     "output_type": "display_data"
    }
   ],
   "source": [
    "j = pp[pp.power == 0]\n",
    "sns.regplot(x=\"speed\", y=\"power\", data=j)"
   ]
  },
  {
   "cell_type": "markdown",
   "metadata": {},
   "source": [
    " Do we exclude - is it noise or bias?\n",
    " https://stats.stackexchange.com/questions/324813/is-neural-network-able-to-learn-from-zero-inputs\n",
    "\n",
    "Will include zeros for moment as part of the dataset with a view to incorporate into the model.\n",
    "In his \"Deep learning with Python\" book, Francois Chollet says that \"With neural networks, it's safe to input missing values as 0, with the condition that 0 isn't already a meaningful value. The network will learn from exposure to the data that the value 0 means missing data and will start ignoring the value.\"\n",
    "Q1. Why Chollet says that the network will learn to ignore the value? I think it is not necessary to learn; the network will ignore values 0 without learning!\n",
    "\n",
    "Q2. Why he says that \"with the condition that 0 isn't already a meaningful value. As I said, the value 0 cannot carry any meaning, because it has not any effect in the network."
   ]
  },
  {
   "cell_type": "markdown",
   "metadata": {},
   "source": [
    "### Linear Regression Model"
   ]
  },
  {
   "cell_type": "markdown",
   "metadata": {},
   "source": [
    "Our goal is to predict power output from a given wind speed. If we have a label Y\" and features X1\" through Xp\", the linear regression model is of the form:\n",
    "\n",
    "$$ Y=β0+β1X1+β2X2+ ... +βpXp\" $$\n",
    "  \n",
    "\n",
    "Here, the β\" terms are unknown coefficients that will be determined by the data set. A linear regression model assumes a linear relationship between the label and the coefficients\"  of the features. However, it is perfectly acceptable, and often helpful, to use non-linear features such as X1X2\" or X12\", if it improves the model. The resulting model is still linear, and all of the general rules regarding linear regression models apply.\n",
    "\n",
    "Before we import our data, there are two questions we need to address.  How are the Β's determined?\n",
    "The coefficients selected are those that minimize a quantity known as the residual\" sum of\" squares, or RSS. If we denote a true label as Y, a predicted label as Y^\", and have a total of n samples, the RSS is defined as\n",
    "$$ \\sum \\limits_{i=1}^{n} (y_i-f(x_i))^2 $$\n",
    "\n",
    "\n",
    "The minimum RSS is achieved when the values between the true and predicted labels are as small as possible. The selected β values will be those that achieve the smallest delta between the true and predicted labels.\n",
    "\n",
    "How do we measure the accuracy of our model?\n",
    "The root mean squared error (RMSE), which is given by the equation \n",
    "\n",
    " \n",
    " \n",
    "$$\\mathrm{RMSD} = \\sqrt{\\frac{\\sum_{i=1}^{N}\\left(x_{i}-\\hat{x}_{i}\\right)^{2}}{N}}$$\n",
    "\n",
    "The RMSE can be thought of the as the square root of the 'average' RSS for each term. One advantage of using RMSE is that it is in the same units as the label. As with RSS, smaller values are better, but there isn't a cutoff for what's considered a 'good' value. Such a threshold depends on the specifics of the problem."
   ]
  },
  {
   "cell_type": "markdown",
   "metadata": {},
   "source": [
    "#### Training Data Versus Test Data\n",
    "Split the data set into two groups, one for training our model, and one for testing it. It's important to set aside some data for testing because we need to get a sense of how our model will perform on data it has never seen before, which is what it would do if it were used in a real production environment. Because our model has already seen the training data, it would not be a good idea to predict prices using that same data. We would expect the model to perform well, and that would give us an over-optimistic estimate of our model's performance ability. The real test is to use data that is new, and that's the purpose of keeping a separate set of data specifically for testing. We want to keep our test data pristine, so we'll split it away from the training data before we do any scaling.\n",
    "\n",
    " \n",
    "The first thing to do is split the data back apart into features (X) and labels (y). Then, we can use the 'train_test_split' function from scikit-learn to randomly split our data into training and testing sets. Note that this split should always be random, in case the data is ordered in some way. A common split is to allocate 70-80% for training, and the rest for testing. Also, because the split is random, we are highly likely to generate training and testing sets that both capture the same underlying relationship between the features and labels."
   ]
  },
  {
   "cell_type": "code",
   "execution_count": 10,
   "metadata": {},
   "outputs": [],
   "source": [
    "X = pp.iloc[:,:-1]\n",
    "y = pp['power']"
   ]
  },
  {
   "cell_type": "code",
   "execution_count": 11,
   "metadata": {},
   "outputs": [
    {
     "name": "stdout",
     "output_type": "stream",
     "text": [
      "Training data size: (400,1)\n",
      "Testing data size: (100,1)\n"
     ]
    }
   ],
   "source": [
    "from sklearn.model_selection import train_test_split\n",
    "\n",
    "# Split the data into 80% training and 20% testing. \n",
    "# The random_state allows us to make the same random split every time.\n",
    "X_train, X_test, y_train, y_test = train_test_split(X,y,test_size=0.2,random_state=327)\n",
    "\n",
    "print('Training data size: (%i,%i)' % X_train.shape)\n",
    "print('Testing data size: (%i,%i)' % X_test.shape)"
   ]
  },
  {
   "cell_type": "markdown",
   "metadata": {},
   "source": [
    "#### Scaling the Features\n",
    "Use the 'StandardScaler' function from scikit-learn to scale the training data so that each feature has a mean of zero and unit standard deviation. We'll apply this same scale to the test data. Note that the test data should never be scaled using its own data."
   ]
  },
  {
   "cell_type": "code",
   "execution_count": 12,
   "metadata": {},
   "outputs": [],
   "source": [
    "from sklearn.preprocessing import StandardScaler\n",
    "\n",
    "scaler = StandardScaler()\n",
    "X_train = scaler.fit_transform(X_train)\n",
    "X_test = scaler.transform(X_test)"
   ]
  },
  {
   "cell_type": "code",
   "execution_count": 13,
   "metadata": {},
   "outputs": [
    {
     "name": "stdout",
     "output_type": "stream",
     "text": [
      "Training set mean by feature:\n",
      "[ 0.79987787  0.73732646 -0.15115319  0.53608013 -1.72353748 -1.35211249\n",
      " -1.01549992  0.3868444   0.35549935 -0.56765403  0.95258097  0.01888678\n",
      "  0.48393084 -1.04670628 -0.13381633  0.44925711  1.50444806  0.41111601\n",
      "  0.63316658 -0.5711214  -0.03672988 -0.77250643  0.8345516  -0.68568341\n",
      " -0.22757409 -1.51521772  1.59459975  0.2722824  -0.46016547 -1.3001019\n",
      "  0.81374736 -1.67138819 -0.6475423   0.84495372 -0.91134004  0.67838112\n",
      " -1.26528947  1.16076205  0.64703607 -0.10954471 -0.35947296  0.99765682\n",
      " -1.48054399  0.27574977  0.77893494 -0.15808794  0.46312661 -0.07487098\n",
      " -0.0227217  -0.47750233  0.52914539  1.1538273   0.64010132 -0.55378454\n",
      " -1.68872506 -0.70995502  0.03275627 -0.39761406  0.96645047  1.39335343\n",
      " -0.9806875   1.48003775 -0.2899868   1.45923351 -0.38721194  0.13691616\n",
      " -0.38374457  1.32386727 -1.46667449 -1.62284497 -0.96681801 -1.57430175\n",
      "  1.34813888  0.54301488 -0.4184183  -0.71342239  1.50098068 -0.78290854\n",
      "  0.17852463 -1.5048156  -0.19983511 -0.04019725 -1.67485557  0.41458338\n",
      "  0.94564623 -0.68221603  1.05313479 -1.03630416 -0.60246646 -1.07791264\n",
      "  1.36908181 -1.26875685 -0.53991505  1.53218704 -0.24491095  0.45965923\n",
      " -1.6575187   1.04966742  0.85882321  0.65050344 -1.6193776   1.33080202\n",
      "  0.39377915 -0.35600558  1.09834933  0.67491375  0.92817067  1.26145456\n",
      " -0.02618907 -1.33477563 -1.62631235  1.2058379   1.66408591 -1.58817124\n",
      " -0.49137183 -0.94948114 -0.18943299  0.9491136   0.45619186 -1.29316715\n",
      " -0.82104965 -0.67528129  0.67144637  1.69182489  1.3968208  -0.852256\n",
      "  1.43842927  0.97685258  0.40418126 -1.18900727 -0.047132    0.11264455\n",
      "  1.25798718  0.25494553 -0.2137046   0.81027999  0.51166983  0.87962745\n",
      "  1.27185668  0.41805076 -1.3763841   1.46963563  0.16465514  0.66451163\n",
      " -1.32437351  0.20973099 -0.27958468  0.60542759  1.68142277 -0.44268991\n",
      " -1.08484738  1.6779554  -1.07097789 -1.60897548 -0.36294033  1.61193662\n",
      "  1.2302482  -1.1716704   1.61540399 -1.03977153 -0.40454881 -0.06446887\n",
      " -1.05017365  1.30306303 -0.70302027  0.62623183 -1.64018184  1.473103\n",
      " -1.50828297 -1.73740698  1.08447984 -0.63020544 -1.66445345  1.02192843\n",
      "  0.43885499 -0.05406675 -1.23061574 -1.24448523 -1.08138001  1.23718295\n",
      " -1.70620062 -0.02965644  0.36936884  0.7581307  -1.55335882 -1.69219243\n",
      " -0.05753412  0.56728649 -1.27222422 -1.16820303 -1.59510599 -0.44615728\n",
      " -0.59553171  1.4869725  -0.19290036 -1.53255458  0.71305485 -0.76903905\n",
      "  1.58419763  1.18850103 -0.13034895 -1.14032535  1.37601656 -0.80024541\n",
      " -0.90440529  1.55299128 -1.61591023  0.85535584  0.28961926 -1.63671446\n",
      "  0.19932887  0.76506544  0.13344878  0.54648225 -0.40801618 -1.03283679\n",
      " -1.25835473  1.54605653  0.17505726  1.32733464 -1.34171037 -0.93907902\n",
      "  1.49751331  0.66104425 -0.78984329 -1.01203255 -1.48747873 -0.31439711\n",
      " -0.76557168  0.0292889   0.22706785  1.60846924  0.33469511 -1.62977972\n",
      "  1.0775451   0.16812251 -0.93561165  0.65743819 -0.54338242  1.52178492\n",
      "  1.02539581  1.53912179 -1.13685798 -1.00495911  0.25841291 -0.95988326\n",
      " -0.28305206  0.59849285 -0.76210431  0.78586968  0.08823424 -0.20330248\n",
      " -1.25488735 -1.66792082 -0.27611731  1.34120414 -1.22021362  0.4769961\n",
      "  0.86575795 -1.29663452  1.04620004 -0.69608553 -0.33173397 -1.27915896\n",
      " -1.76861333 -1.69565981  1.35160626  0.29308663  0.3485646   0.89002957\n",
      "  0.37977096  1.35521232 -1.22714837 -0.00538483 -0.05059937 -1.65405133\n",
      "  0.58809073 -1.25141998  0.95604835 -0.11301209  1.6015345  -1.39372097\n",
      "  0.34162986  0.27921714  1.45576614  1.49043987  0.5915581  -0.99802436\n",
      "  0.07089738  0.70265273  0.89349694 -1.56029356  1.11221883 -1.68179031\n",
      " -0.14768582  1.24411769 -1.47707661  0.96298309  1.58766501 -0.74130007\n",
      "  0.53261276  0.65397081 -1.15433354 -0.08180573  1.20237052  0.63663395\n",
      "  0.33122774 -0.34213609 -0.10607734  1.21277264  0.77200019  1.62927348\n",
      " -0.98762224  1.1156862   0.08129949  1.07047165 -0.74476744 -0.3664077\n",
      " -0.01925432  0.98031996 -1.65058396  0.4249855   1.01152631 -0.56418666\n",
      " -0.3038563  -0.07833836  1.55645865 -0.61633595  0.09516899 -0.78637592\n",
      " -1.53602195 -0.39067931  0.32776036  1.46616826  0.10917717  1.01846106\n",
      "  1.42109241 -1.63324709 -0.9425464   0.8726927   1.51831755 -0.87319894\n",
      "  0.37630359 -0.66834654 -0.52604556 -0.96335063  0.98378733  0.94217885\n",
      " -0.86973156  1.3203999   1.19890315  0.26188028  0.58462335 -1.45973975\n",
      " -0.97722013 -0.5849909   1.45229877  0.60889497  0.667979    1.5633934\n",
      "  0.21319836 -0.25878045  0.03969102 -0.34560347 -1.28262634 -1.0571084\n",
      "  0.22360048 -0.06793624 -0.97375275  0.07783212 -0.92520953 -0.12341421\n",
      "  1.31346515 -0.72729188 -0.64060756 -0.00191746 -1.12992323  0.32082562\n",
      "  0.87616007  0.80334524 -0.83491914  1.50791543  0.83801897  0.35896672\n",
      " -0.6995529  -0.91480741 -0.80371278  1.65021642 -1.34517775  1.03579793\n",
      " -1.10565162 -0.48443708 -0.92174216  0.54994962  1.20930527 -1.37291673\n",
      "  1.6398143   0.82414948  0.50126771  1.38295131]\n",
      "Training set standard deviation by feature:\n",
      "[1.]\n"
     ]
    }
   ],
   "source": [
    "# As a check, print the mean and standard deviation of the training data.\n",
    "print('Training set mean by feature:')\n",
    "print(X_train.mean(axis=1))\n",
    "print('Training set standard deviation by feature:')\n",
    "print(X_train.std(axis=0))"
   ]
  },
  {
   "cell_type": "code",
   "execution_count": 14,
   "metadata": {},
   "outputs": [
    {
     "data": {
      "text/plain": [
       "LinearRegression(n_jobs=1)"
      ]
     },
     "execution_count": 14,
     "metadata": {},
     "output_type": "execute_result"
    }
   ],
   "source": [
    "from sklearn.linear_model import LinearRegression\n",
    "\n",
    "regression_model = LinearRegression()\n",
    "regression_model.fit(X_train,y_train)\n",
    "LinearRegression(copy_X=True, fit_intercept=True, n_jobs=1, normalize=False) "
   ]
  },
  {
   "cell_type": "markdown",
   "metadata": {},
   "source": [
    "### Interpreting The Coefficients"
   ]
  },
  {
   "cell_type": "code",
   "execution_count": 15,
   "metadata": {},
   "outputs": [
    {
     "name": "stdout",
     "output_type": "stream",
     "text": [
      "Intercept = 49.588585\n",
      "\n",
      "       Coefficients\n",
      "speed      35.85347\n"
     ]
    }
   ],
   "source": [
    "intercept = regression_model.intercept_\n",
    "coef = pd.DataFrame(regression_model.coef_, X.columns, columns=['Coefficients'])\n",
    "print('Intercept = %f\\n' % intercept)\n",
    "print(coef)"
   ]
  },
  {
   "cell_type": "markdown",
   "metadata": {},
   "source": [
    "The intercept term (β0), which is equal to the mean power output  in the training data set when all of the other coefficients are set equal to their mean values.\n",
    "\n",
    "A positive coefficient means that power output increases as speed increases. \n",
    "\n",
    "#### Testing the Model on New Data\n",
    "Now that the model is built, its performance on the test data can be tested by using the 'predict' function within the LinearRegression model class. In addition, RMSE is computed on the test data using the formula shown earlier.  In the code below, 'y_pred' contains the predicted power output, and 'y_test' contains the true values (labels) from the test data set."
   ]
  },
  {
   "cell_type": "code",
   "execution_count": 16,
   "metadata": {},
   "outputs": [
    {
     "name": "stdout",
     "output_type": "stream",
     "text": [
      "Test RMSE: 24.409743\n"
     ]
    }
   ],
   "source": [
    "from sklearn.metrics import mean_squared_error\n",
    "import numpy as np\n",
    "\n",
    "y_pred = regression_model.predict(X_test)\n",
    "\n",
    "test_rmse = np.sqrt(mean_squared_error(y_test, y_pred))\n",
    "\n",
    "print('Test RMSE: %f' % test_rmse)"
   ]
  },
  {
   "cell_type": "markdown",
   "metadata": {},
   "source": [
    "This value means that on average, the error in the predicted power output is approximately 24.41. Given that power output ranges from 0 to 113, this is not a non-trivial difference. Two possible reasons for this difference include:\n",
    "\n",
    "The relationship between the features and response is not perfectly linear (this is most certainly true).\n",
    "\n",
    "Wind speed is not perfectly correlated with power output. Overfitting could be happening, where the model performs well on the training data but does not generalize well to new data.\n",
    "\n",
    "There is one plot we can make which will give us a sense of how well our model fit the data, and that is a plot of the predicted versus actual power output. The red line has a slope of one, and represents the line where the predicted output would be identical to the actual output."
   ]
  },
  {
   "cell_type": "code",
   "execution_count": 17,
   "metadata": {},
   "outputs": [
    {
     "data": {
      "image/png": "[encoded data removed]",
      "text/plain": [
       "<Figure size 432x288 with 1 Axes>"
      ]
     },
     "metadata": {},
     "output_type": "display_data"
    }
   ],
   "source": [
    "import matplotlib.pyplot as plt\n",
    "\n",
    "plt.scatter(y_test, y_pred)\n",
    "\n",
    "\n",
    "plt.xlabel('Actual Power Output (kWh)')\n",
    "plt.ylabel('Predicted Price (kWh)')\n",
    "plt.show()"
   ]
  },
  {
   "cell_type": "markdown",
   "metadata": {},
   "source": [
    "If our model had a test RMSE of zero, we would expect every blue dot to land perfectly on the red line. This is not the case of course, and this plot tells us that our model tends to under predict home prices at the lower and higher ends of the price range, while prices in the middle are somewhat equally distributed above and below the perfect fit line.\n",
    "\n",
    "Overall, our model did a satisfactory job of predicting the median home price, especially for a first effort. Plus, we learned which features are most influential, and which contribute to an increase or decrease in median home price, which can be just as valuable as being able to predict the price itself."
   ]
  },
  {
   "cell_type": "code",
   "execution_count": 18,
   "metadata": {},
   "outputs": [
    {
     "data": {
      "text/plain": [
       "Text(0, 0.5, 'Predicted Price (kWh)')"
      ]
     },
     "execution_count": 18,
     "metadata": {},
     "output_type": "execute_result"
    },
    {
     "data": {
      "image/png": "[encoded data removed]",
      "text/plain": [
       "<Figure size 432x288 with 1 Axes>"
      ]
     },
     "metadata": {},
     "output_type": "display_data"
    }
   ],
   "source": [
    "sns.regplot(x=y_test, y=y_pred)\n",
    "plt.xlabel('Actual Power Output (kWh)')\n",
    "plt.ylabel('Predicted Price (kWh)')"
   ]
  },
  {
   "cell_type": "markdown",
   "metadata": {},
   "source": [
    "\n",
    "### Model Accuracy Versus Interpretability\n",
    "\n",
    "An important distinction between different supervised learning models,is the general tradeoff between accuracy and interpretability. Interpretability refers to the ability to see how a model arrived at a particular answer, or at a higher level, why the model made the decisions it did. This tradeoff can be viewed in terms of the overall flexibility of a model. Models that are less flexible tend to be less accurate, as they assume a somewhat rigid form of f(x), and can only produce a small range of estimates. Most real world phenomena do not follow such an explicit form, and thus the model will not be able to completely capture the underlying relationship between the features and label. However, because they are somewhat rigid in nature, these models provide a higher level of interpretability. Models that are more flexible tend to more more accurate, as they do not make explicit assumptions about the form of f(x), and can fit a wider variety of shapes to the data. Because they are more flexible, however, they often provide a lower level of interpretability.\n",
    " [5]"
   ]
  },
  {
   "cell_type": "code",
   "execution_count": null,
   "metadata": {},
   "outputs": [],
   "source": []
  },
  {
   "cell_type": "code",
   "execution_count": null,
   "metadata": {},
   "outputs": [],
   "source": []
  },
  {
   "cell_type": "code",
   "execution_count": null,
   "metadata": {},
   "outputs": [],
   "source": []
  },
  {
   "cell_type": "code",
   "execution_count": null,
   "metadata": {},
   "outputs": [],
   "source": []
  },
  {
   "cell_type": "code",
   "execution_count": null,
   "metadata": {},
   "outputs": [],
   "source": []
  },
  {
   "cell_type": "code",
   "execution_count": null,
   "metadata": {},
   "outputs": [],
   "source": []
  },
  {
   "cell_type": "code",
   "execution_count": null,
   "metadata": {},
   "outputs": [],
   "source": []
  },
  {
   "cell_type": "code",
   "execution_count": null,
   "metadata": {},
   "outputs": [],
   "source": []
  },
  {
   "cell_type": "code",
   "execution_count": null,
   "metadata": {},
   "outputs": [],
   "source": []
  },
  {
   "cell_type": "code",
   "execution_count": null,
   "metadata": {},
   "outputs": [],
   "source": []
  },
  {
   "cell_type": "code",
   "execution_count": null,
   "metadata": {},
   "outputs": [],
   "source": []
  },
  {
   "cell_type": "code",
   "execution_count": null,
   "metadata": {},
   "outputs": [],
   "source": []
  },
  {
   "cell_type": "code",
   "execution_count": null,
   "metadata": {},
   "outputs": [],
   "source": []
  },
  {
   "cell_type": "code",
   "execution_count": null,
   "metadata": {},
   "outputs": [],
   "source": []
  },
  {
   "cell_type": "code",
   "execution_count": null,
   "metadata": {},
   "outputs": [],
   "source": []
  },
  {
   "cell_type": "code",
   "execution_count": null,
   "metadata": {},
   "outputs": [],
   "source": []
  },
  {
   "cell_type": "code",
   "execution_count": null,
   "metadata": {},
   "outputs": [],
   "source": []
  },
  {
   "cell_type": "code",
   "execution_count": null,
   "metadata": {},
   "outputs": [],
   "source": []
  },
  {
   "cell_type": "code",
   "execution_count": null,
   "metadata": {},
   "outputs": [],
   "source": []
  },
  {
   "cell_type": "code",
   "execution_count": null,
   "metadata": {},
   "outputs": [],
   "source": []
  },
  {
   "cell_type": "code",
   "execution_count": null,
   "metadata": {},
   "outputs": [],
   "source": []
  },
  {
   "cell_type": "code",
   "execution_count": null,
   "metadata": {},
   "outputs": [],
   "source": []
  },
  {
   "cell_type": "code",
   "execution_count": null,
   "metadata": {},
   "outputs": [],
   "source": []
  },
  {
   "cell_type": "code",
   "execution_count": null,
   "metadata": {},
   "outputs": [],
   "source": []
  },
  {
   "cell_type": "code",
   "execution_count": null,
   "metadata": {},
   "outputs": [],
   "source": []
  },
  {
   "cell_type": "code",
   "execution_count": null,
   "metadata": {},
   "outputs": [],
   "source": []
  },
  {
   "cell_type": "code",
   "execution_count": null,
   "metadata": {},
   "outputs": [],
   "source": []
  },
  {
   "cell_type": "code",
   "execution_count": null,
   "metadata": {},
   "outputs": [],
   "source": []
  },
  {
   "cell_type": "code",
   "execution_count": null,
   "metadata": {},
   "outputs": [],
   "source": []
  },
  {
   "cell_type": "markdown",
   "metadata": {},
   "source": [
    "***"
   ]
  },
  {
   "cell_type": "markdown",
   "metadata": {},
   "source": [
    "## References\n",
    "[1] https://www.hindawi.com/journals/jen/2016/8519785/<br>\n",
    "[2] http://ieeexplore.ieee.org/iel7/5165391/5433168/06894235.pdf <br>\n",
    "[3] https://keras.io/getting_started/intro_to_keras_for_engineers <br>\n",
    "[4] https://medium.com/towards-artificial-intelligence/building-neural-networks-from-scratch-with-python-code-and-math-in-detail-i-536fae5d7bbf <br>\n",
    "[5] https://blogs.oracle.com/datascience/supervised-learning-with-python<br>"
   ]
  },
  {
   "cell_type": "markdown",
   "metadata": {},
   "source": [
    "### The End"
   ]
  }
 ],
 "metadata": {
  "kernelspec": {
   "display_name": "Python 3",
   "language": "python",
   "name": "python3"
  },
  "language_info": {
   "codemirror_mode": {
    "name": "ipython",
    "version": 3
   },
   "file_extension": ".py",
   "mimetype": "text/x-python",
   "name": "python",
   "nbconvert_exporter": "python",
   "pygments_lexer": "ipython3",
   "version": "3.8.5"
  },
  "toc": {
   "base_numbering": 1,
   "nav_menu": {},
   "number_sections": false,
   "sideBar": false,
   "skip_h1_title": false,
   "title_cell": "Table of Contents",
   "title_sidebar": "Contents",
   "toc_cell": false,
   "toc_position": {
    "height": "calc(100% - 180px)",
    "left": "10px",
    "top": "150px",
    "width": "165px"
   },
   "toc_section_display": true,
   "toc_window_display": false
  }
 },
 "nbformat": 4,
 "nbformat_minor": 4
}
